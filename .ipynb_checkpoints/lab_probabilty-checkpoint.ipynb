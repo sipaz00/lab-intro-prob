{
 "cells": [
  {
   "cell_type": "markdown",
   "metadata": {},
   "source": [
    "# Introduction To Probability"
   ]
  },
  {
   "cell_type": "markdown",
   "metadata": {},
   "source": [
    "## Challenge 1\n",
    "There is a box with 10 white balls, 12 red balls and 8 black balls. Calculate the probability of:\n",
    "* Taking a white ball out.\n",
    "* Taking a white ball out after taking a black ball out.\n",
    "* Taking a red ball out after taking a black and a red ball out.\n",
    "* Taking a red ball out after taking a black and a red ball out with reposition.\n",
    "\n",
    "**Hint**: Reposition means putting back the ball into the box after taking it out."
   ]
  },
  {
   "cell_type": "markdown",
   "metadata": {},
   "source": [
    "box = {W, W, W, W, W, W, W, W, W, W, R, R, R, R, R, R, R, R, R, R, R, R, B, B, B, B, B, B, B, B}"
   ]
  },
  {
   "cell_type": "code",
   "execution_count": 1,
   "metadata": {},
   "outputs": [],
   "source": [
    "white = 10\n",
    "red = 12\n",
    "black = 8\n",
    "total = white + red + black"
   ]
  },
  {
   "cell_type": "code",
   "execution_count": 3,
   "metadata": {},
   "outputs": [
    {
     "name": "stdout",
     "output_type": "stream",
     "text": [
      "The probability of taking a white ball is: 0.3333\n",
      "The probability of taking a white ball out after taking a black ball out is: 0.3448\n",
      "The probability of taking a red ball out after taking a black and a red ball out is: 0.3929\n",
      "The probability of taking a red ball out after taking a black and a red ball out with reposition is: 0.4\n"
     ]
    }
   ],
   "source": [
    "# taking a white ball\n",
    "p_w = white / total\n",
    "print(f\"The probability of taking a white ball is: {p_w:.4f}\")\n",
    "\n",
    "# taking a white ball out after taking a black ball out\n",
    "p_w_b = white / (total-1)\n",
    "print(f\"The probability of taking a white ball out after taking a black ball out is: {p_w_b:.4f}\")\n",
    "\n",
    "# taking a red ball out after taking a black and a red ball out\n",
    "p_r_b_r = (red-1)/(total-2)\n",
    "print(f\"The probability of taking a red ball out after taking a black and a red ball out is: {p_r_b_r:.4f}\")\n",
    "\n",
    "# taking a red ball out after taking a black and a red ball out with reposition\n",
    "p_r_b_r_reposition = red/total\n",
    "print(f\"The probability of taking a red ball out after taking a black and a red ball out with reposition is: {p_r_b_r_reposition}\")"
   ]
  },
  {
   "cell_type": "markdown",
   "metadata": {},
   "source": [
    "## Challenge 2: Card Probabilities\n",
    "\n",
    "1. What is the probability of drawing an Ace from a standard deck of 52 cards?\n",
    "\n",
    "2. What is the probability of drawing either a red card or a Queen from a standard deck of 52 cards?\n",
    "\n",
    "3. If you draw a card from a standard deck and it is red, what is the probability that it is a King?"
   ]
  },
  {
   "cell_type": "markdown",
   "metadata": {},
   "source": [
    "Deck distribution\n",
    "- clubs_B = {Ace, Two, Three, Four, Five, Six, Seven, Eight, Nine, Ten, J, Q, K}\n",
    "- diamonds_R = {Ace, Two, Three, Four, Five, Six, Seven, Eight, Nine, Ten, J, Q, K}\n",
    "- hearts_R = {Ace, Two, Three, Four, Five, Six, Seven, Eight, Nine, Ten, J, Q, K}\n",
    "- spades_B = {Ace, Two, Three, Four, Five, Six, Seven, Eight, Nine, Ten, J, Q, K}"
   ]
  },
  {
   "cell_type": "code",
   "execution_count": 4,
   "metadata": {},
   "outputs": [
    {
     "data": {
      "text/plain": [
       "0.077"
      ]
     },
     "execution_count": 4,
     "metadata": {},
     "output_type": "execute_result"
    }
   ],
   "source": [
    "# 1\n",
    "Ace_prob = 4/52\n",
    "round(Ace_prob,3)"
   ]
  },
  {
   "cell_type": "code",
   "execution_count": 7,
   "metadata": {},
   "outputs": [
    {
     "data": {
      "text/plain": [
       "0.538"
      ]
     },
     "execution_count": 7,
     "metadata": {},
     "output_type": "execute_result"
    }
   ],
   "source": [
    "# 2\n",
    "red_or_queen = 28/52\n",
    "round(red_or_queen, 3)"
   ]
  },
  {
   "cell_type": "code",
   "execution_count": 8,
   "metadata": {},
   "outputs": [
    {
     "data": {
      "text/plain": [
       "0.077"
      ]
     },
     "execution_count": 8,
     "metadata": {},
     "output_type": "execute_result"
    }
   ],
   "source": [
    "# 3\n",
    "red_and_king = 2/26\n",
    "round(red_and_king, 3)"
   ]
  }
 ],
 "metadata": {
  "kernelspec": {
   "display_name": "Python 3 (ipykernel)",
   "language": "python",
   "name": "python3"
  },
  "language_info": {
   "codemirror_mode": {
    "name": "ipython",
    "version": 3
   },
   "file_extension": ".py",
   "mimetype": "text/x-python",
   "name": "python",
   "nbconvert_exporter": "python",
   "pygments_lexer": "ipython3",
   "version": "3.11.7"
  }
 },
 "nbformat": 4,
 "nbformat_minor": 4
}
